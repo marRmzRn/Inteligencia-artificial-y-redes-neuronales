{
  "nbformat": 4,
  "nbformat_minor": 0,
  "metadata": {
    "colab": {
      "provenance": [],
      "authorship_tag": "ABX9TyNwTHs++VI7FT5Bmovt94nK",
      "include_colab_link": true
    },
    "kernelspec": {
      "name": "python3",
      "display_name": "Python 3"
    },
    "language_info": {
      "name": "python"
    }
  },
  "cells": [
    {
      "cell_type": "markdown",
      "metadata": {
        "id": "view-in-github",
        "colab_type": "text"
      },
      "source": [
        "<a href=\"https://colab.research.google.com/github/marRmzRn/Inteligencia-artificial-y-redes-neuronales/blob/main/A2_Ejercicios_en_Python_.ipynb\" target=\"_parent\"><img src=\"https://colab.research.google.com/assets/colab-badge.svg\" alt=\"Open In Colab\"/></a>"
      ]
    },
    {
      "cell_type": "markdown",
      "source": [],
      "metadata": {
        "id": "8Tab61_GlOIK"
      }
    },
    {
      "cell_type": "markdown",
      "source": [
        "#A2 Ejercicios en Python\n",
        "###Margarita Ramírez Rosalino 2077896\n",
        "###LMV N1"
      ],
      "metadata": {
        "id": "yz4CHkMNlSPx"
      }
    },
    {
      "cell_type": "markdown",
      "source": [
        "1.- Desarrolla un algoritmo que le pida al usuario por su nombre y que lo salude con su nombre, excepto si se llama “Ana”, “Juan”, y “Pedro”"
      ],
      "metadata": {
        "id": "GQeiyaACl-Lm"
      }
    },
    {
      "cell_type": "code",
      "source": [
        "nombre = input (\"¿Cómo te llamas?\")\n",
        "if nombre == \"Ana\":\n",
        "  print (\"¡Hola, bienvenida!\")\n",
        "else:\n",
        "  print (f\"¡Hola {nombre} !\")\n",
        "\n",
        "\n",
        "\n",
        "\n",
        "\n",
        " "
      ],
      "metadata": {
        "id": "BDxVPH5cmHYs",
        "colab": {
          "base_uri": "https://localhost:8080/"
        },
        "outputId": "d83f96b5-847c-4200-e0b9-3d25657be8a6"
      },
      "execution_count": 24,
      "outputs": [
        {
          "output_type": "stream",
          "name": "stdout",
          "text": [
            "¿Cómo te llamas?Mar\n",
            "¡Hola Mar !\n"
          ]
        }
      ]
    },
    {
      "cell_type": "markdown",
      "source": [
        "2.- Desarrolla un algoritmo que por medio de una función, le pida al usuario una lista de N elementos y como resultado invierta el sentido de la lista."
      ],
      "metadata": {
        "id": "f3sf4x6Uie0N"
      }
    },
    {
      "cell_type": "code",
      "source": [
        "elementos = []\n",
        "elementos = input (\"Dame los elementos\")\n",
        "print(f\"Lista: {elementos} \")\n",
        "\n",
        "elementos.reverse()\n",
        "print(f\"Lista: {elementos} \") "
      ],
      "metadata": {
        "colab": {
          "base_uri": "https://localhost:8080/",
          "height": 252
        },
        "id": "6Nl1myqcvdvB",
        "outputId": "2d128428-e18e-441b-e570-ce96cfdaf115"
      },
      "execution_count": 46,
      "outputs": [
        {
          "output_type": "stream",
          "name": "stdout",
          "text": [
            "Dame los elementosuno dos tres\n",
            "Lista: uno dos tres \n"
          ]
        },
        {
          "output_type": "error",
          "ename": "AttributeError",
          "evalue": "ignored",
          "traceback": [
            "\u001b[0;31m---------------------------------------------------------------------------\u001b[0m",
            "\u001b[0;31mAttributeError\u001b[0m                            Traceback (most recent call last)",
            "\u001b[0;32m<ipython-input-46-90025f73403e>\u001b[0m in \u001b[0;36m<module>\u001b[0;34m\u001b[0m\n\u001b[1;32m      3\u001b[0m \u001b[0mprint\u001b[0m\u001b[0;34m(\u001b[0m\u001b[0;34mf\"Lista: {elementos} \"\u001b[0m\u001b[0;34m)\u001b[0m\u001b[0;34m\u001b[0m\u001b[0;34m\u001b[0m\u001b[0m\n\u001b[1;32m      4\u001b[0m \u001b[0;34m\u001b[0m\u001b[0m\n\u001b[0;32m----> 5\u001b[0;31m \u001b[0melementos\u001b[0m\u001b[0;34m.\u001b[0m\u001b[0mreverse\u001b[0m\u001b[0;34m(\u001b[0m\u001b[0;34m)\u001b[0m\u001b[0;34m\u001b[0m\u001b[0;34m\u001b[0m\u001b[0m\n\u001b[0m\u001b[1;32m      6\u001b[0m \u001b[0mprint\u001b[0m\u001b[0;34m(\u001b[0m\u001b[0;34mf\"Lista: {elementos} \"\u001b[0m\u001b[0;34m)\u001b[0m\u001b[0;34m\u001b[0m\u001b[0;34m\u001b[0m\u001b[0m\n",
            "\u001b[0;31mAttributeError\u001b[0m: 'str' object has no attribute 'reverse'"
          ]
        }
      ]
    }
  ]
}